{
 "cells": [
  {
   "cell_type": "markdown",
   "metadata": {},
   "source": [
    "##Section 0. References\n",
    "[GGplot Github](https://github.com/yhat/ggplot)\n",
    "\n",
    "[Yhat Blog](blog.yhathq.com/posts/ggplot-for-python.html)\n",
    "\n",
    "[Mann-Whitney Explanation Video](https://www.youtube.com/watch?v=nRAAAp1Bgnw)\n",
    "\n",
    "[Mann-Whitney Wiki page](https://en.wikipedia.org/wiki/Mann%E2%80%93Whitney_U_test)"
   ]
  },
  {
   "cell_type": "code",
   "execution_count": 1,
   "metadata": {
    "collapsed": false
   },
   "outputs": [
    {
     "data": {
      "text/html": [
       "<div>\n",
       "<table border=\"1\" class=\"dataframe\">\n",
       "  <thead>\n",
       "    <tr style=\"text-align: right;\">\n",
       "      <th></th>\n",
       "      <th>Unnamed: 0</th>\n",
       "      <th>UNIT</th>\n",
       "      <th>DATEn</th>\n",
       "      <th>TIMEn</th>\n",
       "      <th>Hour</th>\n",
       "      <th>DESCn</th>\n",
       "      <th>ENTRIESn_hourly</th>\n",
       "      <th>EXITSn_hourly</th>\n",
       "      <th>maxpressurei</th>\n",
       "      <th>maxdewpti</th>\n",
       "      <th>...</th>\n",
       "      <th>meandewpti</th>\n",
       "      <th>meanpressurei</th>\n",
       "      <th>fog</th>\n",
       "      <th>rain</th>\n",
       "      <th>meanwindspdi</th>\n",
       "      <th>mintempi</th>\n",
       "      <th>meantempi</th>\n",
       "      <th>maxtempi</th>\n",
       "      <th>precipi</th>\n",
       "      <th>thunder</th>\n",
       "    </tr>\n",
       "  </thead>\n",
       "  <tbody>\n",
       "    <tr>\n",
       "      <th>0</th>\n",
       "      <td>0</td>\n",
       "      <td>R001</td>\n",
       "      <td>2011-05-01</td>\n",
       "      <td>01:00:00</td>\n",
       "      <td>1</td>\n",
       "      <td>REGULAR</td>\n",
       "      <td>0</td>\n",
       "      <td>0</td>\n",
       "      <td>30.31</td>\n",
       "      <td>42</td>\n",
       "      <td>...</td>\n",
       "      <td>39</td>\n",
       "      <td>30.27</td>\n",
       "      <td>0</td>\n",
       "      <td>0</td>\n",
       "      <td>5</td>\n",
       "      <td>50</td>\n",
       "      <td>60</td>\n",
       "      <td>69</td>\n",
       "      <td>0</td>\n",
       "      <td>0</td>\n",
       "    </tr>\n",
       "    <tr>\n",
       "      <th>1</th>\n",
       "      <td>1</td>\n",
       "      <td>R001</td>\n",
       "      <td>2011-05-01</td>\n",
       "      <td>05:00:00</td>\n",
       "      <td>5</td>\n",
       "      <td>REGULAR</td>\n",
       "      <td>217</td>\n",
       "      <td>553</td>\n",
       "      <td>30.31</td>\n",
       "      <td>42</td>\n",
       "      <td>...</td>\n",
       "      <td>39</td>\n",
       "      <td>30.27</td>\n",
       "      <td>0</td>\n",
       "      <td>0</td>\n",
       "      <td>5</td>\n",
       "      <td>50</td>\n",
       "      <td>60</td>\n",
       "      <td>69</td>\n",
       "      <td>0</td>\n",
       "      <td>0</td>\n",
       "    </tr>\n",
       "    <tr>\n",
       "      <th>2</th>\n",
       "      <td>2</td>\n",
       "      <td>R001</td>\n",
       "      <td>2011-05-01</td>\n",
       "      <td>09:00:00</td>\n",
       "      <td>9</td>\n",
       "      <td>REGULAR</td>\n",
       "      <td>890</td>\n",
       "      <td>1262</td>\n",
       "      <td>30.31</td>\n",
       "      <td>42</td>\n",
       "      <td>...</td>\n",
       "      <td>39</td>\n",
       "      <td>30.27</td>\n",
       "      <td>0</td>\n",
       "      <td>0</td>\n",
       "      <td>5</td>\n",
       "      <td>50</td>\n",
       "      <td>60</td>\n",
       "      <td>69</td>\n",
       "      <td>0</td>\n",
       "      <td>0</td>\n",
       "    </tr>\n",
       "    <tr>\n",
       "      <th>3</th>\n",
       "      <td>3</td>\n",
       "      <td>R001</td>\n",
       "      <td>2011-05-01</td>\n",
       "      <td>13:00:00</td>\n",
       "      <td>13</td>\n",
       "      <td>REGULAR</td>\n",
       "      <td>2451</td>\n",
       "      <td>3708</td>\n",
       "      <td>30.31</td>\n",
       "      <td>42</td>\n",
       "      <td>...</td>\n",
       "      <td>39</td>\n",
       "      <td>30.27</td>\n",
       "      <td>0</td>\n",
       "      <td>0</td>\n",
       "      <td>5</td>\n",
       "      <td>50</td>\n",
       "      <td>60</td>\n",
       "      <td>69</td>\n",
       "      <td>0</td>\n",
       "      <td>0</td>\n",
       "    </tr>\n",
       "    <tr>\n",
       "      <th>4</th>\n",
       "      <td>4</td>\n",
       "      <td>R001</td>\n",
       "      <td>2011-05-01</td>\n",
       "      <td>17:00:00</td>\n",
       "      <td>17</td>\n",
       "      <td>REGULAR</td>\n",
       "      <td>4400</td>\n",
       "      <td>2501</td>\n",
       "      <td>30.31</td>\n",
       "      <td>42</td>\n",
       "      <td>...</td>\n",
       "      <td>39</td>\n",
       "      <td>30.27</td>\n",
       "      <td>0</td>\n",
       "      <td>0</td>\n",
       "      <td>5</td>\n",
       "      <td>50</td>\n",
       "      <td>60</td>\n",
       "      <td>69</td>\n",
       "      <td>0</td>\n",
       "      <td>0</td>\n",
       "    </tr>\n",
       "  </tbody>\n",
       "</table>\n",
       "<p>5 rows × 22 columns</p>\n",
       "</div>"
      ],
      "text/plain": [
       "   Unnamed: 0  UNIT       DATEn     TIMEn  Hour    DESCn  ENTRIESn_hourly  \\\n",
       "0           0  R001  2011-05-01  01:00:00     1  REGULAR                0   \n",
       "1           1  R001  2011-05-01  05:00:00     5  REGULAR              217   \n",
       "2           2  R001  2011-05-01  09:00:00     9  REGULAR              890   \n",
       "3           3  R001  2011-05-01  13:00:00    13  REGULAR             2451   \n",
       "4           4  R001  2011-05-01  17:00:00    17  REGULAR             4400   \n",
       "\n",
       "   EXITSn_hourly  maxpressurei  maxdewpti   ...     meandewpti  meanpressurei  \\\n",
       "0              0         30.31         42   ...             39          30.27   \n",
       "1            553         30.31         42   ...             39          30.27   \n",
       "2           1262         30.31         42   ...             39          30.27   \n",
       "3           3708         30.31         42   ...             39          30.27   \n",
       "4           2501         30.31         42   ...             39          30.27   \n",
       "\n",
       "   fog  rain  meanwindspdi  mintempi  meantempi  maxtempi  precipi  thunder  \n",
       "0    0     0             5        50         60        69        0        0  \n",
       "1    0     0             5        50         60        69        0        0  \n",
       "2    0     0             5        50         60        69        0        0  \n",
       "3    0     0             5        50         60        69        0        0  \n",
       "4    0     0             5        50         60        69        0        0  \n",
       "\n",
       "[5 rows x 22 columns]"
      ]
     },
     "execution_count": 1,
     "metadata": {},
     "output_type": "execute_result"
    }
   ],
   "source": [
    "import numpy as np\n",
    "import scipy.stats\n",
    "import pandas as pd\n",
    "import matplotlib.pyplot as plt\n",
    "%matplotlib inline\n",
    "\n",
    "#df = pd.read_csv('turnstile_weather_v2.csv')\n",
    "df = pd.read_csv('turnstile_data_master_with_weather.csv')\n",
    "df.head()"
   ]
  },
  {
   "cell_type": "markdown",
   "metadata": {},
   "source": [
    "##Section 1. Statistical Test\n",
    "###1.1 Which statistical test did you use to analyze the NYC subway data? Did you use a one-tail or a two-tail P value? What is the null hypothesis? What is your p-critical value?\n",
    "We performed the Mann-Whitney U-test and our null hypothesis is defined as: Given a population,* X*, of samples of hourly entries when it is raining and a population, *Y*, of samples of hourly entries when it is not raining, our null hypothesis states \"*The distributions of X and Y are equal*\". Mathematically, this can be stated as $$H_{0}:P(X > Y) = P(Y > X)$$ which can be read as: \"*The probability that X is greater than Y is equal to the probability that Y is greater than X*\". We use a two-tail p value.  Our null hypothesis is that the number of people who ride the NYC Subway when it is raining is the same as the number of people who ride the NYC Subway when it is not raining.  Our p-critical value is 0.05\n",
    "###1.2 Why is this statistical test applicable to the dataset? In particular, consider the assumptions that the test is making about the distribution of ridership in the two samples.\n",
    "We use this test since it is not dependent on whether the sample distribution is normal or not. The figure below is based on the **master_turstile_data.csv**.\n"
   ]
  },
  {
   "cell_type": "code",
   "execution_count": 2,
   "metadata": {
    "collapsed": false
   },
   "outputs": [
    {
     "data": {
      "image/png": "[encoded data removed]",
      "text/plain": [
       "<matplotlib.figure.Figure at 0x1ecda4e0>"
      ]
     },
     "metadata": {},
     "output_type": "display_data"
    }
   ],
   "source": [
    "plt.figure()\n",
    "plt.axis([-1000,10000,0,45000])\n",
    "set1 =np.array(df[df['rain'] == 0]['ENTRIESn_hourly'])\n",
    "set2 = np.array(df[df['rain'] == 1]['ENTRIESn_hourly'])\n",
    "plt.hist(set1,bins=200,label='No Rain')\n",
    "plt.hist(set2,bins=200, label= 'Rain')\n",
    "plt.legend()\n",
    "plt.title(\"Histogram of Number of Hourly entries\")\n",
    "plt.xlabel(\"Hourly Entries\")\n",
    "plt.show()"
   ]
  },
  {
   "cell_type": "markdown",
   "metadata": {},
   "source": [
    "###1.3 What results did you get from this statistical test? These should include the following numerical values: p-values, as well as the means for each of the two samples under test.\n",
    "We present the results generated by the Mann-Whitney U Test below."
   ]
  },
  {
   "cell_type": "code",
   "execution_count": 3,
   "metadata": {
    "collapsed": false
   },
   "outputs": [
    {
     "data": {
      "text/plain": [
       "(1105.4463767458733,\n",
       " 1090.278780151855,\n",
       " MannwhitneyuResult(statistic=1924409167.0, pvalue=0.019309634413792565),\n",
       " 0.038619268827585131)"
      ]
     },
     "execution_count": 3,
     "metadata": {},
     "output_type": "execute_result"
    }
   ],
   "source": [
    "entries_with_rain = df[df['rain'] == 1]['ENTRIESn_hourly']\n",
    "entries_without_rain = df[df['rain'] == 0]['ENTRIESn_hourly']\n",
    "with_rain_mean = entries_with_rain.mean()\n",
    "without_rain_mean = entries_without_rain.mean()\n",
    "results = scipy.stats.mannwhitneyu(entries_without_rain,entries_with_rain)\n",
    "U = results[0]\n",
    "p = results[1] * 2\n",
    "with_rain_mean,without_rain_mean,results, p"
   ]
  },
  {
   "cell_type": "markdown",
   "metadata": {},
   "source": [
    "The mean value of entries with rain is *1105.45* and the mean values of entries without rain is *1090.28*. The p-value after being doubled, since the scipy Mann-Whitney test returns a p-value for one-tailed test, is *0.038*.  Since the U test doesn't provide much information, we also provide some more descriptive statistics below."
   ]
  },
  {
   "cell_type": "code",
   "execution_count": 4,
   "metadata": {
    "collapsed": false
   },
   "outputs": [
    {
     "data": {
      "text/plain": [
       "count    44104.000000\n",
       "mean      1105.446377\n",
       "std       2370.527674\n",
       "min          0.000000\n",
       "25%         41.000000\n",
       "50%        282.000000\n",
       "75%       1103.250000\n",
       "max      51839.000000\n",
       "Name: ENTRIESn_hourly, dtype: float64"
      ]
     },
     "execution_count": 4,
     "metadata": {},
     "output_type": "execute_result"
    }
   ],
   "source": [
    "entries_with_rain.describe()"
   ]
  },
  {
   "cell_type": "code",
   "execution_count": 5,
   "metadata": {
    "collapsed": false
   },
   "outputs": [
    {
     "data": {
      "text/plain": [
       "count    87847.000000\n",
       "mean      1090.278780\n",
       "std       2320.004938\n",
       "min          0.000000\n",
       "25%         38.000000\n",
       "50%        278.000000\n",
       "75%       1111.000000\n",
       "max      43199.000000\n",
       "Name: ENTRIESn_hourly, dtype: float64"
      ]
     },
     "execution_count": 5,
     "metadata": {},
     "output_type": "execute_result"
    }
   ],
   "source": [
    "entries_without_rain.describe()"
   ]
  },
  {
   "cell_type": "markdown",
   "metadata": {},
   "source": [
    "###1.4 What is the significance and interpretation of these results?\n",
    "Based off of the p-value the number of people who ride the subway when it is raining is statistically different than the number of people who ride the NYC subway when it is not raining.  Based off of the descriptive statistics, there is a higher median value for hourly entries when it was raining compared to the median of hourly entries when it is not raining."
   ]
  },
  {
   "cell_type": "markdown",
   "metadata": {},
   "source": [
    "##Section 2. Linear Regression\n",
    "###2.1 What approach did you use to compute the coefficients theta and produce prediction for ENTRIESn_hourly in your regression model:\n",
    "I used the Gradient Descent model which is apart of the the *sklearn* module in Python.\n",
    "###2.2 What features (input variables) did you use in your model? Did you use any dummy variables as part of your features?\n",
    "I used the following variables for my features:\n",
    "    - rain\n",
    "    - precipi\n",
    "    - hour\n",
    "    - meantempi\n",
    "    - day_week\n",
    "    - pressurei\n",
    "The *UNITS* were used as a dummy varaiable\n",
    "###2.3 Why did you select these features in your model? We are looking for specific reasons that lead you to believe that the selected features will contribute to the predictive power of your model.Your reasons might be based on intuition. For example, response for fog might be: “I decided to use fog because I thought that when it is very foggy outside people might decide to use the subway more often.”Your reasons might also be based on data exploration and experimentation, for example: “I used feature X because as soon as I included it in my model, it drastically improved my R2 value.”\n",
    "I chose *rain* and *precipi* because these features seem like that they would have a significant impact on predicting the ridership based on the weather.  I included *pressurei* since the barometric pressure is correlated to weather it is going to rain or not ( I learned this in a middle school project).  The remaining features were added because they gave me an improvement on my $R^2$ coefficient.\n",
    "\n",
    "\n",
    "\n",
    "###2.4 What are the parameters (also known as \"coefficients\" or \"weights\") of the non-dummy features in your linear regression model?\n",
    "Before generating the parameters, we include a few helper functions that help us properly use the Gradient Descent function.  We need to normalize our features before passing them into the *SGDRegressor* function which represents our Gradient Descent model.  From this point on, we use the *Improved* dataset to improve our results with the linear regression model and the data visulizations generated in the following section."
   ]
  },
  {
   "cell_type": "code",
   "execution_count": 6,
   "metadata": {
    "collapsed": true
   },
   "outputs": [],
   "source": [
    "import statsmodels.api as sm\n",
    "from sklearn.linear_model import SGDRegressor\n",
    "df = pd.read_csv('turnstile_weather_v2.csv')\n",
    "\n",
    "def normalize_features(features):\n",
    "    ''' \n",
    "    Returns the means and standard deviations of the given features, along with a normalized feature\n",
    "    matrix.\n",
    "    ''' \n",
    "    means = np.mean(features, axis=0)\n",
    "    std_devs = np.std(features, axis=0)\n",
    "    normalized_features = (features - means) / std_devs\n",
    "    return means, std_devs, normalized_features\n",
    "\n",
    "def recover_params(means, std_devs, norm_intercept, norm_params):\n",
    "    ''' \n",
    "    Recovers the weights for a linear model given parameters that were fitted using\n",
    "    normalized features. Takes the means and standard deviations of the original\n",
    "    features, along with the intercept and parameters computed using the normalized\n",
    "    features, and returns the intercept and parameters that correspond to the original\n",
    "    features.\n",
    "    ''' \n",
    "    intercept = norm_intercept - np.sum(means * norm_params / std_devs)\n",
    "    params = norm_params / std_devs\n",
    "    return intercept, params\n",
    "\n",
    "def linear_regression(features, values):\n",
    "    \"\"\"\n",
    "    Perform linear regression given a data set with an arbitrary number of features.\n",
    "    \"\"\"\n",
    "    #features = sm.add_constant(features)\n",
    "    model = SGDRegressor(n_iter=50)\n",
    "    #normalize_res = normalize_features(features)\n",
    "    model.fit(features,values)\n",
    "      \n",
    "    ###########################\n",
    "    ### YOUR CODE GOES HERE ###\n",
    "    ###########################\n",
    "    intercept = model.intercept_\n",
    "    params = model.coef_\n",
    "    return intercept, params\n"
   ]
  },
  {
   "cell_type": "markdown",
   "metadata": {},
   "source": [
    "Now we generate our coeficients(weights) and y-intercept below:"
   ]
  },
  {
   "cell_type": "code",
   "execution_count": 7,
   "metadata": {
    "collapsed": false
   },
   "outputs": [
    {
     "name": "stdout",
     "output_type": "stream",
     "text": [
      "[ 17498.7536092]\n"
     ]
    },
    {
     "data": {
      "text/html": [
       "<div>\n",
       "<table border=\"1\" class=\"dataframe\">\n",
       "  <thead>\n",
       "    <tr style=\"text-align: right;\">\n",
       "      <th></th>\n",
       "      <th>0</th>\n",
       "    </tr>\n",
       "  </thead>\n",
       "  <tbody>\n",
       "    <tr>\n",
       "      <th>rain</th>\n",
       "      <td>-53.921300</td>\n",
       "    </tr>\n",
       "    <tr>\n",
       "      <th>precipi</th>\n",
       "      <td>-3136.371402</td>\n",
       "    </tr>\n",
       "    <tr>\n",
       "      <th>hour</th>\n",
       "      <td>119.413103</td>\n",
       "    </tr>\n",
       "    <tr>\n",
       "      <th>meantempi</th>\n",
       "      <td>-13.860128</td>\n",
       "    </tr>\n",
       "    <tr>\n",
       "      <th>day_week</th>\n",
       "      <td>-148.528587</td>\n",
       "    </tr>\n",
       "    <tr>\n",
       "      <th>pressurei</th>\n",
       "      <td>-516.688574</td>\n",
       "    </tr>\n",
       "    <tr>\n",
       "      <th>unit_R003</th>\n",
       "      <td>-1651.910488</td>\n",
       "    </tr>\n",
       "    <tr>\n",
       "      <th>unit_R004</th>\n",
       "      <td>-1566.488039</td>\n",
       "    </tr>\n",
       "    <tr>\n",
       "      <th>unit_R005</th>\n",
       "      <td>-1047.501534</td>\n",
       "    </tr>\n",
       "    <tr>\n",
       "      <th>unit_R006</th>\n",
       "      <td>-1286.819970</td>\n",
       "    </tr>\n",
       "    <tr>\n",
       "      <th>unit_R007</th>\n",
       "      <td>-1333.334456</td>\n",
       "    </tr>\n",
       "    <tr>\n",
       "      <th>unit_R008</th>\n",
       "      <td>-1645.859715</td>\n",
       "    </tr>\n",
       "    <tr>\n",
       "      <th>unit_R009</th>\n",
       "      <td>-1534.842154</td>\n",
       "    </tr>\n",
       "    <tr>\n",
       "      <th>unit_R011</th>\n",
       "      <td>5378.264208</td>\n",
       "    </tr>\n",
       "    <tr>\n",
       "      <th>unit_R012</th>\n",
       "      <td>6633.304836</td>\n",
       "    </tr>\n",
       "    <tr>\n",
       "      <th>unit_R013</th>\n",
       "      <td>1330.936925</td>\n",
       "    </tr>\n",
       "    <tr>\n",
       "      <th>unit_R016</th>\n",
       "      <td>-1288.672360</td>\n",
       "    </tr>\n",
       "    <tr>\n",
       "      <th>unit_R017</th>\n",
       "      <td>1464.621738</td>\n",
       "    </tr>\n",
       "    <tr>\n",
       "      <th>unit_R018</th>\n",
       "      <td>5080.620260</td>\n",
       "    </tr>\n",
       "    <tr>\n",
       "      <th>unit_R019</th>\n",
       "      <td>1281.203760</td>\n",
       "    </tr>\n",
       "    <tr>\n",
       "      <th>unit_R020</th>\n",
       "      <td>3831.524891</td>\n",
       "    </tr>\n",
       "    <tr>\n",
       "      <th>unit_R021</th>\n",
       "      <td>2704.266342</td>\n",
       "    </tr>\n",
       "    <tr>\n",
       "      <th>unit_R022</th>\n",
       "      <td>8455.410621</td>\n",
       "    </tr>\n",
       "    <tr>\n",
       "      <th>unit_R023</th>\n",
       "      <td>3935.066388</td>\n",
       "    </tr>\n",
       "    <tr>\n",
       "      <th>unit_R024</th>\n",
       "      <td>1312.960027</td>\n",
       "    </tr>\n",
       "    <tr>\n",
       "      <th>unit_R025</th>\n",
       "      <td>3582.138654</td>\n",
       "    </tr>\n",
       "    <tr>\n",
       "      <th>unit_R027</th>\n",
       "      <td>1934.442965</td>\n",
       "    </tr>\n",
       "    <tr>\n",
       "      <th>unit_R029</th>\n",
       "      <td>3413.542238</td>\n",
       "    </tr>\n",
       "    <tr>\n",
       "      <th>unit_R030</th>\n",
       "      <td>1787.765052</td>\n",
       "    </tr>\n",
       "    <tr>\n",
       "      <th>unit_R031</th>\n",
       "      <td>2499.750774</td>\n",
       "    </tr>\n",
       "    <tr>\n",
       "      <th>...</th>\n",
       "      <td>...</td>\n",
       "    </tr>\n",
       "    <tr>\n",
       "      <th>unit_R321</th>\n",
       "      <td>-768.116729</td>\n",
       "    </tr>\n",
       "    <tr>\n",
       "      <th>unit_R322</th>\n",
       "      <td>204.471730</td>\n",
       "    </tr>\n",
       "    <tr>\n",
       "      <th>unit_R323</th>\n",
       "      <td>-606.826663</td>\n",
       "    </tr>\n",
       "    <tr>\n",
       "      <th>unit_R325</th>\n",
       "      <td>-1381.082401</td>\n",
       "    </tr>\n",
       "    <tr>\n",
       "      <th>unit_R330</th>\n",
       "      <td>-589.761294</td>\n",
       "    </tr>\n",
       "    <tr>\n",
       "      <th>unit_R335</th>\n",
       "      <td>-1460.408572</td>\n",
       "    </tr>\n",
       "    <tr>\n",
       "      <th>unit_R336</th>\n",
       "      <td>-1840.860530</td>\n",
       "    </tr>\n",
       "    <tr>\n",
       "      <th>unit_R337</th>\n",
       "      <td>-1679.199412</td>\n",
       "    </tr>\n",
       "    <tr>\n",
       "      <th>unit_R338</th>\n",
       "      <td>-2017.450283</td>\n",
       "    </tr>\n",
       "    <tr>\n",
       "      <th>unit_R341</th>\n",
       "      <td>-1347.971728</td>\n",
       "    </tr>\n",
       "    <tr>\n",
       "      <th>unit_R344</th>\n",
       "      <td>-1254.963485</td>\n",
       "    </tr>\n",
       "    <tr>\n",
       "      <th>unit_R345</th>\n",
       "      <td>-1504.414837</td>\n",
       "    </tr>\n",
       "    <tr>\n",
       "      <th>unit_R346</th>\n",
       "      <td>-726.181901</td>\n",
       "    </tr>\n",
       "    <tr>\n",
       "      <th>unit_R348</th>\n",
       "      <td>-1607.210321</td>\n",
       "    </tr>\n",
       "    <tr>\n",
       "      <th>unit_R354</th>\n",
       "      <td>-1473.951522</td>\n",
       "    </tr>\n",
       "    <tr>\n",
       "      <th>unit_R356</th>\n",
       "      <td>-611.399017</td>\n",
       "    </tr>\n",
       "    <tr>\n",
       "      <th>unit_R358</th>\n",
       "      <td>-1748.924763</td>\n",
       "    </tr>\n",
       "    <tr>\n",
       "      <th>unit_R370</th>\n",
       "      <td>-1129.086399</td>\n",
       "    </tr>\n",
       "    <tr>\n",
       "      <th>unit_R371</th>\n",
       "      <td>-1265.271498</td>\n",
       "    </tr>\n",
       "    <tr>\n",
       "      <th>unit_R372</th>\n",
       "      <td>-745.499039</td>\n",
       "    </tr>\n",
       "    <tr>\n",
       "      <th>unit_R373</th>\n",
       "      <td>-1324.091853</td>\n",
       "    </tr>\n",
       "    <tr>\n",
       "      <th>unit_R382</th>\n",
       "      <td>-934.585458</td>\n",
       "    </tr>\n",
       "    <tr>\n",
       "      <th>unit_R424</th>\n",
       "      <td>-1463.449608</td>\n",
       "    </tr>\n",
       "    <tr>\n",
       "      <th>unit_R429</th>\n",
       "      <td>-673.798403</td>\n",
       "    </tr>\n",
       "    <tr>\n",
       "      <th>unit_R453</th>\n",
       "      <td>-80.279291</td>\n",
       "    </tr>\n",
       "    <tr>\n",
       "      <th>unit_R454</th>\n",
       "      <td>-1679.896742</td>\n",
       "    </tr>\n",
       "    <tr>\n",
       "      <th>unit_R455</th>\n",
       "      <td>-1823.463403</td>\n",
       "    </tr>\n",
       "    <tr>\n",
       "      <th>unit_R456</th>\n",
       "      <td>-1410.822600</td>\n",
       "    </tr>\n",
       "    <tr>\n",
       "      <th>unit_R459</th>\n",
       "      <td>-1637.659254</td>\n",
       "    </tr>\n",
       "    <tr>\n",
       "      <th>unit_R464</th>\n",
       "      <td>-1842.618833</td>\n",
       "    </tr>\n",
       "  </tbody>\n",
       "</table>\n",
       "<p>246 rows × 1 columns</p>\n",
       "</div>"
      ],
      "text/plain": [
       "                     0\n",
       "rain        -53.921300\n",
       "precipi   -3136.371402\n",
       "hour        119.413103\n",
       "meantempi   -13.860128\n",
       "day_week   -148.528587\n",
       "pressurei  -516.688574\n",
       "unit_R003 -1651.910488\n",
       "unit_R004 -1566.488039\n",
       "unit_R005 -1047.501534\n",
       "unit_R006 -1286.819970\n",
       "unit_R007 -1333.334456\n",
       "unit_R008 -1645.859715\n",
       "unit_R009 -1534.842154\n",
       "unit_R011  5378.264208\n",
       "unit_R012  6633.304836\n",
       "unit_R013  1330.936925\n",
       "unit_R016 -1288.672360\n",
       "unit_R017  1464.621738\n",
       "unit_R018  5080.620260\n",
       "unit_R019  1281.203760\n",
       "unit_R020  3831.524891\n",
       "unit_R021  2704.266342\n",
       "unit_R022  8455.410621\n",
       "unit_R023  3935.066388\n",
       "unit_R024  1312.960027\n",
       "unit_R025  3582.138654\n",
       "unit_R027  1934.442965\n",
       "unit_R029  3413.542238\n",
       "unit_R030  1787.765052\n",
       "unit_R031  2499.750774\n",
       "...                ...\n",
       "unit_R321  -768.116729\n",
       "unit_R322   204.471730\n",
       "unit_R323  -606.826663\n",
       "unit_R325 -1381.082401\n",
       "unit_R330  -589.761294\n",
       "unit_R335 -1460.408572\n",
       "unit_R336 -1840.860530\n",
       "unit_R337 -1679.199412\n",
       "unit_R338 -2017.450283\n",
       "unit_R341 -1347.971728\n",
       "unit_R344 -1254.963485\n",
       "unit_R345 -1504.414837\n",
       "unit_R346  -726.181901\n",
       "unit_R348 -1607.210321\n",
       "unit_R354 -1473.951522\n",
       "unit_R356  -611.399017\n",
       "unit_R358 -1748.924763\n",
       "unit_R370 -1129.086399\n",
       "unit_R371 -1265.271498\n",
       "unit_R372  -745.499039\n",
       "unit_R373 -1324.091853\n",
       "unit_R382  -934.585458\n",
       "unit_R424 -1463.449608\n",
       "unit_R429  -673.798403\n",
       "unit_R453   -80.279291\n",
       "unit_R454 -1679.896742\n",
       "unit_R455 -1823.463403\n",
       "unit_R456 -1410.822600\n",
       "unit_R459 -1637.659254\n",
       "unit_R464 -1842.618833\n",
       "\n",
       "[246 rows x 1 columns]"
      ]
     },
     "execution_count": 7,
     "metadata": {},
     "output_type": "execute_result"
    }
   ],
   "source": [
    "features = df[['rain', 'precipi', 'hour', 'meantempi','day_week','pressurei']]\n",
    "dummy_units = pd.get_dummies(df['UNIT'], prefix='unit')\n",
    "features = features.join(dummy_units)\n",
    "# Values\n",
    "values = df['ENTRIESn_hourly']\n",
    "    \n",
    "# Get numpy arrays\n",
    "features_array = features.values\n",
    "values_array = values.values\n",
    "    \n",
    "means, std_devs, normalized_features_array = normalize_features(features_array)\n",
    "\n",
    "# Perform gradient descent\n",
    "norm_intercept, norm_params = linear_regression(normalized_features_array, values_array)\n",
    "    \n",
    "intercept, params = recover_params(means, std_devs, norm_intercept, norm_params)\n",
    "    \n",
    "predictions = intercept + np.dot(features_array, params)\n",
    "\n",
    "print intercept\n",
    "#params\n",
    "\n",
    "indices = ['rain','precipi','hour','meantempi','day_week','pressurei']\n",
    "lst = list(dummy_units.columns.values)\n",
    "indices = indices + lst\n",
    "output = pd.DataFrame(params, index=indices)\n",
    "output"
   ]
  },
  {
   "cell_type": "markdown",
   "metadata": {},
   "source": [
    "###2.5 What is your model’s R2 (coefficients of determination) value?\n",
    "Our $R^2$ value is generated below which is 0.46."
   ]
  },
  {
   "cell_type": "code",
   "execution_count": 8,
   "metadata": {
    "collapsed": false
   },
   "outputs": [
    {
     "data": {
      "text/plain": [
       "0.46055548355281706"
      ]
     },
     "execution_count": 8,
     "metadata": {},
     "output_type": "execute_result"
    }
   ],
   "source": [
    "mean = values.mean()\n",
    "numerator = np.sum((values - predictions)**2)\n",
    "denom = np.sum((values-mean)**2)\n",
    "r_squared = 1 - numerator/denom\n",
    "r_squared    "
   ]
  },
  {
   "cell_type": "markdown",
   "metadata": {},
   "source": [
    "###2.6 What does this R2 value mean for the goodness of fit for your regression model? Do you think this linear model to predict ridership is appropriate for this dataset, given this R2  value?\n",
    "Based on our $R^2$ value, I don't believe that this linear model is very effective for this dataset as the coefficient is closer to 0 than it is to one.  I experimented with various features and increased the number of iterations up to 250 and the $R^2$ value that I have currently generated is the best one that I was able to generate."
   ]
  },
  {
   "cell_type": "markdown",
   "metadata": {},
   "source": [
    "##Section 3. Visualization\n",
    "The first two illustrations are the histogram graphs of the number of hourly entries based on whether it was raining or not raining.  The last two visualizations are line trends to show how hourly entries vary across different times of the day as well as through different days of the week."
   ]
  },
  {
   "cell_type": "code",
   "execution_count": 9,
   "metadata": {
    "collapsed": false
   },
   "outputs": [
    {
     "data": {
      "image/png": "[encoded data removed]",
      "text/plain": [
       "<matplotlib.figure.Figure at 0x1f24d630>"
      ]
     },
     "metadata": {},
     "output_type": "display_data"
    },
    {
     "data": {
      "text/plain": [
       "<ggplot: (32656662)>"
      ]
     },
     "execution_count": 9,
     "metadata": {},
     "output_type": "execute_result"
    }
   ],
   "source": [
    "from ggplot import *\n",
    "\n",
    "df.is_copy=False\n",
    "df_ = df[df['rain'] == 0]\n",
    "plot = ggplot(df_, aes('ENTRIESn_hourly')) + geom_histogram(fill='red',binwidth=100) + xlim(0,7500) + ggtitle('Histogram of the Number of Hourly Entries when it is not raining')\n",
    "plot"
   ]
  },
  {
   "cell_type": "code",
   "execution_count": 10,
   "metadata": {
    "collapsed": false
   },
   "outputs": [
    {
     "data": {
      "image/png": "[encoded data removed]",
      "text/plain": [
       "<matplotlib.figure.Figure at 0x2202e208>"
      ]
     },
     "metadata": {},
     "output_type": "display_data"
    },
    {
     "data": {
      "text/plain": [
       "<ggplot: (35032706)>"
      ]
     },
     "execution_count": 10,
     "metadata": {},
     "output_type": "execute_result"
    }
   ],
   "source": [
    "df_ = df[df['rain'] == 1]\n",
    "plot = ggplot(df_, aes('ENTRIESn_hourly')) + geom_histogram(fill='blue',binwidth=100)  + xlim(0,7500)+ ggtitle('Histogram of the Number of Hourly Entries when it is raining')\n",
    "plot\n"
   ]
  },
  {
   "cell_type": "code",
   "execution_count": 11,
   "metadata": {
    "collapsed": false
   },
   "outputs": [
    {
     "data": {
      "image/png": "[encoded data removed]",
      "text/plain": [
       "<matplotlib.figure.Figure at 0x320123c8>"
      ]
     },
     "metadata": {},
     "output_type": "display_data"
    },
    {
     "data": {
      "text/plain": [
       "<ggplot: (52454148)>"
      ]
     },
     "execution_count": 11,
     "metadata": {},
     "output_type": "execute_result"
    }
   ],
   "source": [
    "plot = ggplot(df, aes('hour','ENTRIESn_hourly',color='rain')) + stat_smooth(se=False,size=4) + xlim(-2,24) + ggtitle('Plot of Entries at various times of the day')\n",
    "plot"
   ]
  },
  {
   "cell_type": "code",
   "execution_count": 12,
   "metadata": {
    "collapsed": false
   },
   "outputs": [
    {
     "data": {
      "image/png": "[encoded data removed]",
      "text/plain": [
       "<matplotlib.figure.Figure at 0x214d8dd8>"
      ]
     },
     "metadata": {},
     "output_type": "display_data"
    },
    {
     "data": {
      "text/plain": [
       "<ggplot: (34920470)>"
      ]
     },
     "execution_count": 12,
     "metadata": {},
     "output_type": "execute_result"
    }
   ],
   "source": [
    "plot = ggplot(df, aes('day_week','ENTRIESn_hourly',color='rain')) + stat_smooth(se=False, size=4) + xlim(-1,7) + ggtitle('Plot of Entries at various days of the week')\n",
    "plot"
   ]
  },
  {
   "cell_type": "markdown",
   "metadata": {},
   "source": [
    "##Section 4. Conclusion\n",
    "###4.1 From your analysis and interpretation of the data, do more people ride the NYC subway when it is raining or when it is not raining?  \n",
    "###4.2 What analyses lead you to this conclusion? You should use results from both your statistical tests and your linear regression to support your analysis.\n",
    "From my analysis of the data, the data shows that more people ride the NYC subway when it is raining.  I have come to this conclusion from the results of our Mann-Whitney U test along with the descriptive statistics and visualization data generated in the responses above.  The Mann-Whitney U test gave us a *p-value* of 0.038 which, in our case, we would reject the null hypothesis which we defined as: \"There is no difference between the subway ridership when it is raining and when it is not raining\".  The p-value computed during the U test is less than our p-critical value of 0.05.  Thus we can conclude there is a statistical difference between the ridership when it is raining and when it is not raining on the NYC subway.  After analyzing the descriptive statistics, we see that the median value is larger for the number of hourly entries when it is raining compared to when it is not raining.  Analyzing the data visualizations, we can see the trend rate is higher in both the number of hourly entries per hour as well as over different days of the week for when it is raining.  The linear regression was not very accurate at predicting the the number of hourly entries in our model so this may lead for us to believe that our model is not very effective for drawing conclusions about the ridership on the NYC subway realtive to the weather(rain).\n"
   ]
  },
  {
   "cell_type": "markdown",
   "metadata": {},
   "source": [
    "##Section 5. Reflection\n",
    "###5.1 Please discuss potential shortcomings of the methods of your analysis, including: Dataset, Analysis, such as the linear regression model or statistical test.\n",
    "###5.2 (Optional) Do you have any other insight about the dataset that you would like to share with us?\n",
    "As stated in *Section 4*, the linear regression model was not very accurate as a predictive model.  Another shortcoming was the number of data points(Dataset) that we have for when it was raining; there were about twice as many data points for when it was not raining compared to the number of data points when it was raining.  This is probably expected in the month of May where the number of rainy days are few.  Perhaps an experiment comparing the ridership of a month with a more even distribution of rainy days and non-rainy days would have given us a better predictive model."
   ]
  }
 ],
 "metadata": {
  "kernelspec": {
   "display_name": "Python 2",
   "language": "python",
   "name": "python2"
  },
  "language_info": {
   "codemirror_mode": {
    "name": "ipython",
    "version": 2
   },
   "file_extension": ".py",
   "mimetype": "text/x-python",
   "name": "python",
   "nbconvert_exporter": "python",
   "pygments_lexer": "ipython2",
   "version": "2.7.10"
  }
 },
 "nbformat": 4,
 "nbformat_minor": 0
}
