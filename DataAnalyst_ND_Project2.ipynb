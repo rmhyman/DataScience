{
 "cells": [
  {
   "cell_type": "markdown",
   "metadata": {},
   "source": [
    "##Section 0. References\n",
    "[GGplot Github](https://github.com/yhat/ggplot)\n",
    "\n",
    "[Yhat Blog](blog.yhathq.com/posts/ggplot-for-python.html)\n",
    "\n",
    "[Mann-Whitney Explanation Video](https://www.youtube.com/watch?v=nRAAAp1Bgnw)"
   ]
  },
  {
   "cell_type": "code",
   "execution_count": 1,
   "metadata": {
    "collapsed": false
   },
   "outputs": [
    {
     "data": {
      "text/html": [
       "<div>\n",
       "<table border=\"1\" class=\"dataframe\">\n",
       "  <thead>\n",
       "    <tr style=\"text-align: right;\">\n",
       "      <th></th>\n",
       "      <th>Unnamed: 0</th>\n",
       "      <th>UNIT</th>\n",
       "      <th>DATEn</th>\n",
       "      <th>TIMEn</th>\n",
       "      <th>Hour</th>\n",
       "      <th>DESCn</th>\n",
       "      <th>ENTRIESn_hourly</th>\n",
       "      <th>EXITSn_hourly</th>\n",
       "      <th>maxpressurei</th>\n",
       "      <th>maxdewpti</th>\n",
       "      <th>...</th>\n",
       "      <th>meandewpti</th>\n",
       "      <th>meanpressurei</th>\n",
       "      <th>fog</th>\n",
       "      <th>rain</th>\n",
       "      <th>meanwindspdi</th>\n",
       "      <th>mintempi</th>\n",
       "      <th>meantempi</th>\n",
       "      <th>maxtempi</th>\n",
       "      <th>precipi</th>\n",
       "      <th>thunder</th>\n",
       "    </tr>\n",
       "  </thead>\n",
       "  <tbody>\n",
       "    <tr>\n",
       "      <th>0</th>\n",
       "      <td>0</td>\n",
       "      <td>R001</td>\n",
       "      <td>2011-05-01</td>\n",
       "      <td>01:00:00</td>\n",
       "      <td>1</td>\n",
       "      <td>REGULAR</td>\n",
       "      <td>0</td>\n",
       "      <td>0</td>\n",
       "      <td>30.31</td>\n",
       "      <td>42</td>\n",
       "      <td>...</td>\n",
       "      <td>39</td>\n",
       "      <td>30.27</td>\n",
       "      <td>0</td>\n",
       "      <td>0</td>\n",
       "      <td>5</td>\n",
       "      <td>50</td>\n",
       "      <td>60</td>\n",
       "      <td>69</td>\n",
       "      <td>0</td>\n",
       "      <td>0</td>\n",
       "    </tr>\n",
       "    <tr>\n",
       "      <th>1</th>\n",
       "      <td>1</td>\n",
       "      <td>R001</td>\n",
       "      <td>2011-05-01</td>\n",
       "      <td>05:00:00</td>\n",
       "      <td>5</td>\n",
       "      <td>REGULAR</td>\n",
       "      <td>217</td>\n",
       "      <td>553</td>\n",
       "      <td>30.31</td>\n",
       "      <td>42</td>\n",
       "      <td>...</td>\n",
       "      <td>39</td>\n",
       "      <td>30.27</td>\n",
       "      <td>0</td>\n",
       "      <td>0</td>\n",
       "      <td>5</td>\n",
       "      <td>50</td>\n",
       "      <td>60</td>\n",
       "      <td>69</td>\n",
       "      <td>0</td>\n",
       "      <td>0</td>\n",
       "    </tr>\n",
       "    <tr>\n",
       "      <th>2</th>\n",
       "      <td>2</td>\n",
       "      <td>R001</td>\n",
       "      <td>2011-05-01</td>\n",
       "      <td>09:00:00</td>\n",
       "      <td>9</td>\n",
       "      <td>REGULAR</td>\n",
       "      <td>890</td>\n",
       "      <td>1262</td>\n",
       "      <td>30.31</td>\n",
       "      <td>42</td>\n",
       "      <td>...</td>\n",
       "      <td>39</td>\n",
       "      <td>30.27</td>\n",
       "      <td>0</td>\n",
       "      <td>0</td>\n",
       "      <td>5</td>\n",
       "      <td>50</td>\n",
       "      <td>60</td>\n",
       "      <td>69</td>\n",
       "      <td>0</td>\n",
       "      <td>0</td>\n",
       "    </tr>\n",
       "    <tr>\n",
       "      <th>3</th>\n",
       "      <td>3</td>\n",
       "      <td>R001</td>\n",
       "      <td>2011-05-01</td>\n",
       "      <td>13:00:00</td>\n",
       "      <td>13</td>\n",
       "      <td>REGULAR</td>\n",
       "      <td>2451</td>\n",
       "      <td>3708</td>\n",
       "      <td>30.31</td>\n",
       "      <td>42</td>\n",
       "      <td>...</td>\n",
       "      <td>39</td>\n",
       "      <td>30.27</td>\n",
       "      <td>0</td>\n",
       "      <td>0</td>\n",
       "      <td>5</td>\n",
       "      <td>50</td>\n",
       "      <td>60</td>\n",
       "      <td>69</td>\n",
       "      <td>0</td>\n",
       "      <td>0</td>\n",
       "    </tr>\n",
       "    <tr>\n",
       "      <th>4</th>\n",
       "      <td>4</td>\n",
       "      <td>R001</td>\n",
       "      <td>2011-05-01</td>\n",
       "      <td>17:00:00</td>\n",
       "      <td>17</td>\n",
       "      <td>REGULAR</td>\n",
       "      <td>4400</td>\n",
       "      <td>2501</td>\n",
       "      <td>30.31</td>\n",
       "      <td>42</td>\n",
       "      <td>...</td>\n",
       "      <td>39</td>\n",
       "      <td>30.27</td>\n",
       "      <td>0</td>\n",
       "      <td>0</td>\n",
       "      <td>5</td>\n",
       "      <td>50</td>\n",
       "      <td>60</td>\n",
       "      <td>69</td>\n",
       "      <td>0</td>\n",
       "      <td>0</td>\n",
       "    </tr>\n",
       "  </tbody>\n",
       "</table>\n",
       "<p>5 rows × 22 columns</p>\n",
       "</div>"
      ],
      "text/plain": [
       "   Unnamed: 0  UNIT       DATEn     TIMEn  Hour    DESCn  ENTRIESn_hourly  \\\n",
       "0           0  R001  2011-05-01  01:00:00     1  REGULAR                0   \n",
       "1           1  R001  2011-05-01  05:00:00     5  REGULAR              217   \n",
       "2           2  R001  2011-05-01  09:00:00     9  REGULAR              890   \n",
       "3           3  R001  2011-05-01  13:00:00    13  REGULAR             2451   \n",
       "4           4  R001  2011-05-01  17:00:00    17  REGULAR             4400   \n",
       "\n",
       "   EXITSn_hourly  maxpressurei  maxdewpti   ...     meandewpti  meanpressurei  \\\n",
       "0              0         30.31         42   ...             39          30.27   \n",
       "1            553         30.31         42   ...             39          30.27   \n",
       "2           1262         30.31         42   ...             39          30.27   \n",
       "3           3708         30.31         42   ...             39          30.27   \n",
       "4           2501         30.31         42   ...             39          30.27   \n",
       "\n",
       "   fog  rain  meanwindspdi  mintempi  meantempi  maxtempi  precipi  thunder  \n",
       "0    0     0             5        50         60        69        0        0  \n",
       "1    0     0             5        50         60        69        0        0  \n",
       "2    0     0             5        50         60        69        0        0  \n",
       "3    0     0             5        50         60        69        0        0  \n",
       "4    0     0             5        50         60        69        0        0  \n",
       "\n",
       "[5 rows x 22 columns]"
      ]
     },
     "execution_count": 1,
     "metadata": {},
     "output_type": "execute_result"
    }
   ],
   "source": [
    "import numpy as np\n",
    "import scipy.stats\n",
    "import pandas as pd\n",
    "import matplotlib.pyplot as plt\n",
    "%matplotlib inline\n",
    "\n",
    "#df = pd.read_csv('turnstile_weather_v2.csv')\n",
    "df = pd.read_csv('turnstile_data_master_with_weather.csv')\n",
    "df.head()"
   ]
  },
  {
   "cell_type": "markdown",
   "metadata": {},
   "source": [
    "##Section 1. Statistical Test\n",
    "###1.1 Which statistical test did you use to analyze the NYC subway data? Did you use a one-tail or a two-tail P value? What is the null hypothesis? What is your p-critical value?\n",
    "We performed the Mann-Whitney U-test which is designed for evaluating whether the probability of choosing a random sample from one population  is larger than selecting a sample from another sample. We use a two-tail p value.  Our null hypothesis is that the number of people who ride the NYC Subway when it is raining is the same as the number of people who ride the NYC Subway when it is not raining.  Our p-critical value is 0.05\n",
    "###1.2 Why is this statistical test applicable to the dataset? In particular, consider the assumptions that the test is making about the distribution of ridership in the two samples.\n",
    "We use this test since it is not dependent on whether the sample distribution is normal or not.\n"
   ]
  },
  {
   "cell_type": "code",
   "execution_count": 2,
   "metadata": {
    "collapsed": false
   },
   "outputs": [
    {
     "data": {
      "text/plain": [
       "<matplotlib.legend.Legend at 0x21854a20>"
      ]
     },
     "execution_count": 2,
     "metadata": {},
     "output_type": "execute_result"
    },
    {
     "data": {
      "image/png": "[encoded data removed]",
      "text/plain": [
       "<matplotlib.figure.Figure at 0x1c0dceb8>"
      ]
     },
     "metadata": {},
     "output_type": "display_data"
    }
   ],
   "source": [
    "plt.figure()\n",
    "plt.axis([0,14000,0,70000])\n",
    "df[df['rain'] == 0]['ENTRIESn_hourly'].hist(bins=40,label='No Rain')\n",
    "df[df['rain'] == 1]['ENTRIESn_hourly'].hist(bins=40, label= 'Rain')\n",
    "plt.legend()"
   ]
  },
  {
   "cell_type": "markdown",
   "metadata": {},
   "source": [
    "###1.3 What results did you get from this statistical test? These should include the following numerical values: p-values, as well as the means for each of the two samples under test.\n",
    "We present the results generated by the Mann-Whitney U Test below."
   ]
  },
  {
   "cell_type": "code",
   "execution_count": 3,
   "metadata": {
    "collapsed": false
   },
   "outputs": [
    {
     "data": {
      "text/plain": [
       "(1105.4463767458733,\n",
       " 1090.278780151855,\n",
       " MannwhitneyuResult(statistic=1924409167.0, pvalue=0.019309634413792565),\n",
       " 0.038619268827585131)"
      ]
     },
     "execution_count": 3,
     "metadata": {},
     "output_type": "execute_result"
    }
   ],
   "source": [
    "entries_with_rain = df[df['rain'] == 1]['ENTRIESn_hourly']\n",
    "entries_without_rain = df[df['rain'] == 0]['ENTRIESn_hourly']\n",
    "with_rain_mean = entries_with_rain.mean()\n",
    "without_rain_mean = entries_without_rain.mean()\n",
    "results = scipy.stats.mannwhitneyu(entries_without_rain,entries_with_rain)\n",
    "U = results[0]\n",
    "p = results[1] * 2\n",
    "with_rain_mean,without_rain_mean,results, p"
   ]
  },
  {
   "cell_type": "markdown",
   "metadata": {},
   "source": [
    "The mean value of entries with rain is *1105.45* and the mean values of entries without rain is *1090.28*. The p-value after being doubled, since the scipy Mann-Whitney test returns a p-value for one-tailed test, is *0.038*.  Since the U test doesn't provide much information, we also provide some more descriptive statistics below."
   ]
  },
  {
   "cell_type": "code",
   "execution_count": 4,
   "metadata": {
    "collapsed": false
   },
   "outputs": [
    {
     "data": {
      "text/plain": [
       "count    44104.000000\n",
       "mean      1105.446377\n",
       "std       2370.527674\n",
       "min          0.000000\n",
       "25%         41.000000\n",
       "50%        282.000000\n",
       "75%       1103.250000\n",
       "max      51839.000000\n",
       "Name: ENTRIESn_hourly, dtype: float64"
      ]
     },
     "execution_count": 4,
     "metadata": {},
     "output_type": "execute_result"
    }
   ],
   "source": [
    "entries_with_rain.describe()"
   ]
  },
  {
   "cell_type": "code",
   "execution_count": 5,
   "metadata": {
    "collapsed": false
   },
   "outputs": [
    {
     "data": {
      "text/plain": [
       "count    87847.000000\n",
       "mean      1090.278780\n",
       "std       2320.004938\n",
       "min          0.000000\n",
       "25%         38.000000\n",
       "50%        278.000000\n",
       "75%       1111.000000\n",
       "max      43199.000000\n",
       "Name: ENTRIESn_hourly, dtype: float64"
      ]
     },
     "execution_count": 5,
     "metadata": {},
     "output_type": "execute_result"
    }
   ],
   "source": [
    "entries_without_rain.describe()"
   ]
  },
  {
   "cell_type": "markdown",
   "metadata": {},
   "source": [
    "###1.4 What is the significance and interpretation of these results?\n",
    "Based off of the p-value the number of people who ride the subway when it is raining is statistically different than the number of people who ride the NYC subway when it is not raining.  Based off of the descriptive statistics, there is a higher median value for hourly entries when it was raining compared to the median of hourly entries when it is not raining."
   ]
  },
  {
   "cell_type": "markdown",
   "metadata": {},
   "source": [
    "##Section 2. Linear Regression\n",
    "###2.1 What approach did you use to compute the coefficients theta and produce prediction for ENTRIESn_hourly in your regression model:\n",
    "I used the Gradient Descent model which is apart of the the *sklearn* module in Python.\n",
    "###2.2 What features (input variables) did you use in your model? Did you use any dummy variables as part of your features?\n",
    "I used the following variables for my features:\n",
    "    - rain\n",
    "    - precipi\n",
    "    - hour\n",
    "    - meantempi\n",
    "    - day_week\n",
    "    - pressurei\n",
    "The *UNITS* were used as a dummy varaiable\n",
    "###2.3 Why did you select these features in your model? We are looking for specific reasons that lead you to believe that the selected features will contribute to the predictive power of your model.Your reasons might be based on intuition. For example, response for fog might be: “I decided to use fog because I thought that when it is very foggy outside people might decide to use the subway more often.”Your reasons might also be based on data exploration and experimentation, for example: “I used feature X because as soon as I included it in my model, it drastically improved my R2 value.”\n",
    "I chose *rain* and *precipi* because these features seem like that they would have a significant impact on predicting the ridership based on the weather.  I included *pressurei* since the barometric pressure is correlated to weather it is going to rain or not ( I learned this in a middle school project).  The remaining features were added because they gave me an improvement on my $R^2$ coefficient.\n",
    "\n",
    "\n",
    "\n",
    "###2.4 What are the parameters (also known as \"coefficients\" or \"weights\") of the non-dummy features in your linear regression model?\n",
    "Before generating the parameters, we include a few helper functions that help us properly use the Gradient Descent function.  We need to normalize our features before passing them into the *SGDRegressor* function which represents our Gradient Descent model."
   ]
  },
  {
   "cell_type": "code",
   "execution_count": 6,
   "metadata": {
    "collapsed": true
   },
   "outputs": [],
   "source": [
    "import statsmodels.api as sm\n",
    "from sklearn.linear_model import SGDRegressor\n",
    "df = pd.read_csv('turnstile_weather_v2.csv')\n",
    "\n",
    "def normalize_features(features):\n",
    "    ''' \n",
    "    Returns the means and standard deviations of the given features, along with a normalized feature\n",
    "    matrix.\n",
    "    ''' \n",
    "    means = np.mean(features, axis=0)\n",
    "    std_devs = np.std(features, axis=0)\n",
    "    normalized_features = (features - means) / std_devs\n",
    "    return means, std_devs, normalized_features\n",
    "\n",
    "def recover_params(means, std_devs, norm_intercept, norm_params):\n",
    "    ''' \n",
    "    Recovers the weights for a linear model given parameters that were fitted using\n",
    "    normalized features. Takes the means and standard deviations of the original\n",
    "    features, along with the intercept and parameters computed using the normalized\n",
    "    features, and returns the intercept and parameters that correspond to the original\n",
    "    features.\n",
    "    ''' \n",
    "    intercept = norm_intercept - np.sum(means * norm_params / std_devs)\n",
    "    params = norm_params / std_devs\n",
    "    return intercept, params\n",
    "\n",
    "def linear_regression(features, values):\n",
    "    \"\"\"\n",
    "    Perform linear regression given a data set with an arbitrary number of features.\n",
    "    \"\"\"\n",
    "    #features = sm.add_constant(features)\n",
    "    model = SGDRegressor(n_iter=50)\n",
    "    #normalize_res = normalize_features(features)\n",
    "    model.fit(features,values)\n",
    "      \n",
    "    ###########################\n",
    "    ### YOUR CODE GOES HERE ###\n",
    "    ###########################\n",
    "    intercept = model.intercept_\n",
    "    params = model.coef_\n",
    "    return intercept, params\n"
   ]
  },
  {
   "cell_type": "markdown",
   "metadata": {},
   "source": [
    "Now we generate our parameters and y-intercept below:"
   ]
  },
  {
   "cell_type": "code",
   "execution_count": 7,
   "metadata": {
    "collapsed": false
   },
   "outputs": [
    {
     "name": "stdout",
     "output_type": "stream",
     "text": [
      "[ 21445.20188304]\n"
     ]
    },
    {
     "data": {
      "text/plain": [
       "array([  7.93840745e+01,  -2.60973264e+03,   1.23276603e+02,\n",
       "        -1.90961334e+01,  -1.39172256e+02,  -6.40270323e+02,\n",
       "        -1.79051327e+03,  -1.38409592e+03,  -1.32482533e+03,\n",
       "        -1.42210090e+03,  -1.64103056e+03,  -1.50747704e+03,\n",
       "        -1.66955520e+03,   6.45209641e+03,   5.68016066e+03,\n",
       "         8.04593905e+02,  -1.12109202e+03,   3.29848606e+03,\n",
       "         5.64530686e+03,   7.31729619e+02,   4.64308504e+03,\n",
       "         2.31193759e+03,   6.04854011e+03,   4.59731228e+03,\n",
       "         1.79367849e+03,   4.16828539e+03,   3.63636645e+02,\n",
       "         6.11432272e+03,   1.46375658e+03,   1.77130432e+03,\n",
       "         3.32096901e+03,   6.73473143e+03,  -5.76658600e+02,\n",
       "         1.27564677e+03,  -1.18155348e+03,  -1.16459377e+03,\n",
       "        -1.77027636e+03,  -9.75992690e+02,  -7.30149886e+02,\n",
       "         1.60495094e+03,  -1.44622723e+03,   1.77254494e+03,\n",
       "         1.93699338e+03,   5.95674456e+03,   1.10039650e+03,\n",
       "         2.44549609e+03,   2.95547198e+03,  -5.44437171e+02,\n",
       "         1.57060723e+03,  -3.34011723e+02,   6.54724790e+03,\n",
       "        -3.78819413e+02,   3.38112216e+03,  -1.21503983e+03,\n",
       "        -8.25752136e+02,  -1.19941075e+03,  -1.24739367e+03,\n",
       "         7.36076360e+02,  -5.96901955e+02,  -1.10256448e+03,\n",
       "        -1.07842304e+03,  -1.61136441e+03,  -7.82694789e+02,\n",
       "        -1.29961914e+03,  -6.38355554e+02,   2.06654326e+02,\n",
       "         2.72260336e+03,   1.09254826e+03,  -3.98042053e+02,\n",
       "         1.92391804e+03,   7.77208280e+03,   6.51500121e+02,\n",
       "         7.30374514e+02,  -3.50475365e+02,  -1.24376343e+03,\n",
       "        -1.33950653e+03,  -9.27857703e+02,  -4.31792887e+01,\n",
       "         1.92083625e+02,  -6.67121640e+01,   3.86470650e+01,\n",
       "         3.99087989e+02,   1.96460687e+03,  -1.87678533e+01,\n",
       "         2.17285459e+02,  -1.33717241e+03,   5.94810858e+02,\n",
       "         1.72817524e+03,  -4.25461174e+02,  -6.62255264e+02,\n",
       "         1.50102872e+03,  -5.38555734e+02,  -1.29804684e+03,\n",
       "         3.00395555e+03,   1.35760900e+03,  -1.31956617e+02,\n",
       "        -1.12342933e+03,  -5.14404843e+02,   1.32204530e+03,\n",
       "        -6.58353697e+02,   5.08468426e+02,  -3.80430994e+02,\n",
       "        -1.92707023e+02,   5.47306017e+02,  -1.60146935e+02,\n",
       "        -1.15807807e+03,   3.92899261e+02,   2.68691640e+03,\n",
       "         6.46735131e+02,   7.64398051e+02,   1.55006406e+03,\n",
       "         2.36027482e+02,   5.52568898e+03,  -2.17069596e+02,\n",
       "        -7.46825990e+02,  -8.97988637e+02,  -5.91820526e+02,\n",
       "         3.34671509e+02,  -4.79533871e+02,   4.13050753e+02,\n",
       "        -2.73079506e+02,   2.99422551e+01,  -1.00621638e+03,\n",
       "        -6.58123996e+02,   1.19078265e+03,  -3.39618555e+00,\n",
       "        -7.80616282e+02,  -2.93282322e+02,   3.75944660e+02,\n",
       "         5.20025097e+02,  -9.67733104e+02,  -1.15766774e+03,\n",
       "         1.22169676e+02,  -1.18165368e+02,  -4.78673942e+02,\n",
       "        -1.14614664e+03,  -3.28445157e+02,  -1.20185305e+03,\n",
       "        -7.00423222e+02,   1.05519632e+02,  -5.95483006e+02,\n",
       "        -8.54115275e+01,  -4.99092074e+02,  -2.46120217e+01,\n",
       "        -8.07116701e+02,  -1.19139903e+03,  -1.05060620e+03,\n",
       "        -6.76395829e+02,  -7.17980474e+02,  -1.20850038e+03,\n",
       "        -8.52663827e+02,  -7.64587622e+02,  -7.00590397e+02,\n",
       "        -7.47178191e+02,  -1.28401057e+03,   5.90781586e+02,\n",
       "        -7.76783515e+02,  -1.21224040e+03,   1.19053892e+03,\n",
       "        -1.05614809e+03,   9.23384354e+02,  -1.28772426e+03,\n",
       "        -3.16017606e+02,   2.76742105e+02,  -1.14950284e+03,\n",
       "        -1.33729366e+03,   8.71932207e+02,  -8.51189485e+02,\n",
       "        -8.34344167e+02,  -4.56083451e+02,  -1.11539472e+03,\n",
       "        -1.01919947e+03,   4.49586036e+02,  -1.18827398e+03,\n",
       "        -5.08252890e+02,   1.70796467e+02,  -2.86679744e+02,\n",
       "        -9.78633079e+02,  -7.10266608e+02,  -4.27262334e+02,\n",
       "        -1.34288618e+03,  -1.86382309e+03,  -1.36780316e+03,\n",
       "        -9.85965773e+02,  -9.09779101e+02,  -6.14452566e+02,\n",
       "        -1.32710448e+03,  -1.41339186e+03,  -2.56089565e+02,\n",
       "        -7.96426904e+02,  -5.57813197e+02,  -4.37077091e+02,\n",
       "        -1.39840089e+03,  -1.69999253e+03,  -1.10703779e+03,\n",
       "        -1.06209618e+03,  -6.33619631e+02,  -3.07000478e+02,\n",
       "        -8.25328218e+02,  -8.61198607e+02,  -1.24528454e+03,\n",
       "        -2.28965341e+02,  -7.90244969e+02,  -1.72654956e+03,\n",
       "         3.18510619e+02,  -3.80973463e+02,  -7.14885389e+02,\n",
       "        -1.67866832e+03,  -7.96827430e+02,  -1.21911979e+03,\n",
       "        -4.36955692e+02,  -1.46659077e+03,  -1.67969375e+03,\n",
       "        -1.71813032e+03,  -1.06832485e+03,  -2.39361312e+02,\n",
       "        -6.82541690e+02,   1.46505491e+01,  -4.41933945e+02,\n",
       "        -1.54810745e+03,  -8.28963477e+02,  -1.52458456e+03,\n",
       "        -1.64243980e+03,  -1.56501280e+03,  -2.09385275e+03,\n",
       "        -1.39971435e+03,  -1.47926039e+03,  -1.38682447e+03,\n",
       "        -7.50058425e+02,  -1.94007026e+03,  -1.73402869e+03,\n",
       "        -5.20276596e+02,  -1.50355558e+03,  -1.27731674e+03,\n",
       "        -9.00970452e+02,  -1.21186608e+03,  -8.24796387e+02,\n",
       "        -7.97934770e+02,  -1.24741160e+03,  -7.62118863e+02,\n",
       "        -4.42268959e+02,  -1.51485290e+03,  -1.53929436e+03,\n",
       "        -1.72467306e+03,  -2.17469186e+03,  -1.55560909e+03])"
      ]
     },
     "execution_count": 7,
     "metadata": {},
     "output_type": "execute_result"
    }
   ],
   "source": [
    "features = df[['rain', 'precipi', 'hour', 'meantempi','day_week','pressurei']]\n",
    "dummy_units = pd.get_dummies(df['UNIT'], prefix='unit')\n",
    "features = features.join(dummy_units)\n",
    "# Values\n",
    "values = df['ENTRIESn_hourly']\n",
    "    \n",
    "# Get numpy arrays\n",
    "features_array = features.values\n",
    "values_array = values.values\n",
    "    \n",
    "means, std_devs, normalized_features_array = normalize_features(features_array)\n",
    "\n",
    "# Perform gradient descent\n",
    "norm_intercept, norm_params = linear_regression(normalized_features_array, values_array)\n",
    "    \n",
    "intercept, params = recover_params(means, std_devs, norm_intercept, norm_params)\n",
    "    \n",
    "predictions = intercept + np.dot(features_array, params)\n",
    "\n",
    "print intercept\n",
    "params\n",
    "\n"
   ]
  },
  {
   "cell_type": "markdown",
   "metadata": {},
   "source": [
    "###2.5 What is your model’s R2 (coefficients of determination) value?\n",
    "Our $R^2$ value is generated below which is 0.46."
   ]
  },
  {
   "cell_type": "code",
   "execution_count": 8,
   "metadata": {
    "collapsed": false
   },
   "outputs": [
    {
     "data": {
      "text/plain": [
       "0.4600557374682288"
      ]
     },
     "execution_count": 8,
     "metadata": {},
     "output_type": "execute_result"
    }
   ],
   "source": [
    "mean = values.mean()\n",
    "numerator = np.sum((values - predictions)**2)\n",
    "denom = np.sum((values-mean)**2)\n",
    "r_squared = 1 - numerator/denom\n",
    "r_squared    "
   ]
  },
  {
   "cell_type": "markdown",
   "metadata": {},
   "source": [
    "###2.6 What does this R2 value mean for the goodness of fit for your regression model? Do you think this linear model to predict ridership is appropriate for this dataset, given this R2  value?\n",
    "Based on our $R^2$ value, I don't believe that this linear model is very effective for this dataset as the coefficient is closer to 0 than it is to one.  I experimented with various features and increased the number of iterations up to 250 and the $R^2$ value that I have currently generated is the best one that I was able to generate."
   ]
  },
  {
   "cell_type": "markdown",
   "metadata": {},
   "source": [
    "##Section 3. Visualization\n",
    "The first illustration is the histogram graph of the number of hourly entries based on whether it was raining(rain==1) or not(rain==0).  The last two visualizations are line trends to show how hourly entries vary across different times of the day as well as through different days of the week."
   ]
  },
  {
   "cell_type": "code",
   "execution_count": 12,
   "metadata": {
    "collapsed": false
   },
   "outputs": [
    {
     "data": {
      "image/png": "[encoded data removed]",
      "text/plain": [
       "<matplotlib.figure.Figure at 0x316e3470>"
      ]
     },
     "metadata": {},
     "output_type": "display_data"
    },
    {
     "data": {
      "text/plain": [
       "<ggplot: (51831773)>"
      ]
     },
     "execution_count": 12,
     "metadata": {},
     "output_type": "execute_result"
    }
   ],
   "source": [
    "from ggplot import *\n",
    "\n",
    "df.is_copy=False\n",
    "plot = ggplot(df, aes('ENTRIESn_hourly',fill='rain')) + geom_histogram(binwidth=100) + xlim(0,7500)\n",
    "\n",
    "plot "
   ]
  },
  {
   "cell_type": "code",
   "execution_count": 10,
   "metadata": {
    "collapsed": false
   },
   "outputs": [
    {
     "data": {
      "image/png": "[encoded data removed]",
      "text/plain": [
       "<matplotlib.figure.Figure at 0x3109ffd0>"
      ]
     },
     "metadata": {},
     "output_type": "display_data"
    },
    {
     "data": {
      "text/plain": [
       "<ggplot: (51498546)>"
      ]
     },
     "execution_count": 10,
     "metadata": {},
     "output_type": "execute_result"
    }
   ],
   "source": [
    "plot = ggplot(df, aes('hour','ENTRIESn_hourly',color='rain')) + stat_smooth(se=False,size=4) + xlim(-2,24) + ggtitle('Plot of Entries at various times of the day')\n",
    "plot"
   ]
  },
  {
   "cell_type": "code",
   "execution_count": 11,
   "metadata": {
    "collapsed": false
   },
   "outputs": [
    {
     "data": {
      "image/png": "[encoded data removed]",
      "text/plain": [
       "<matplotlib.figure.Figure at 0x312c0128>"
      ]
     },
     "metadata": {},
     "output_type": "display_data"
    },
    {
     "data": {
      "text/plain": [
       "<ggplot: (51417387)>"
      ]
     },
     "execution_count": 11,
     "metadata": {},
     "output_type": "execute_result"
    }
   ],
   "source": [
    "plot = ggplot(df, aes('day_week','ENTRIESn_hourly',color='rain')) + stat_smooth(se=False, size=4) + xlim(-1,7) + ggtitle('Plot of Entries at various days of the week')\n",
    "plot"
   ]
  },
  {
   "cell_type": "markdown",
   "metadata": {},
   "source": [
    "##Section 4. Conclusion\n",
    "###4.1 From your analysis and interpretation of the data, do more people ride the NYC subway when it is raining or when it is not raining?  \n",
    "###4.2 What analyses lead you to this conclusion? You should use results from both your statistical tests and your linear regression to support your analysis.\n",
    "From my analysis of the data, the data shows that more people ride the NYC subway when it is raining.  I have come to this conclusion from the results of our Mann-Whitney U test along with the descriptive statistics and visualization data generated in the responses above.  The Mann-Whitney U test gave us a *p-value* of 0.038 which, in our case, we would reject the null hypothesis which we defined as: \"There is no difference between the subway ridership when it is raining and when it is not raining\".  The p-value computed during the U test is less than our p-critical value of 0.05.  Thus we can conclude there is a statistical difference between the ridership when it is raining and when it is not raining on the NYC subway.  After analyzing the descriptive statistics, we see that the median value is larger for the number of hourly entries when it is raining compared to when it is not raining.  Analyzing the data visualizations, we can see the trend rate is higher in both the number of hourly entries per hour as well as over different days of the week for when it is raining.  The linear regression was not very accurate at predicting the the number of hourly entries in our model so this may lead for us to believe that our model is not very effective for drawing conclusions about the ridership on the NYC subway realtive to the weather(rain).\n"
   ]
  },
  {
   "cell_type": "markdown",
   "metadata": {},
   "source": [
    "##Section 5. Reflection\n",
    "###5.1 Please discuss potential shortcomings of the methods of your analysis, including: Dataset, Analysis, such as the linear regression model or statistical test.\n",
    "###5.2 (Optional) Do you have any other insight about the dataset that you would like to share with us?\n",
    "As stated in *Section 4*, the linear regression model was not very accurate as a predictive model.  Another shortcoming was the number of data points(Dataset) that we have for when it was raining; there were about twice as many data points for when it was not raining compared to the number of data points when it was raining.  This is probably expected in the month of May where the number of rainy days are few.  Perhaps an experiment comparing the ridership of a month with a more even distribution of rainy days and non-rainy days would have given us a better predictive model."
   ]
  }
 ],
 "metadata": {
  "kernelspec": {
   "display_name": "Python 2",
   "language": "python",
   "name": "python2"
  },
  "language_info": {
   "codemirror_mode": {
    "name": "ipython",
    "version": 2
   },
   "file_extension": ".py",
   "mimetype": "text/x-python",
   "name": "python",
   "nbconvert_exporter": "python",
   "pygments_lexer": "ipython2",
   "version": "2.7.10"
  }
 },
 "nbformat": 4,
 "nbformat_minor": 0
}
